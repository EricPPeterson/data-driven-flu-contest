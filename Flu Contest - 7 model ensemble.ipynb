{
 "cells": [
  {
   "cell_type": "code",
   "execution_count": null,
   "metadata": {},
   "outputs": [],
   "source": [
    "import pandas as pd\n",
    "import numpy as np\n",
    "import matplotlib.pyplot as plt\n",
    "import seaborn as sns\n",
    "from numpy import (mean, std)\n",
    "from sklearn.datasets import make_classification\n",
    "from sklearn.model_selection import (cross_val_score, RepeatedStratifiedKFold)\n",
    "from sklearn.linear_model import LogisticRegression\n",
    "from sklearn.neighbors import KNeighborsClassifier\n",
    "from sklearn.tree import DecisionTreeClassifier\n",
    "from sklearn.naive_bayes import GaussianNB\n",
    "from sklearn.ensemble import (StackingClassifier, GradientBoostingClassifier, RandomForestClassifier, ExtraTreesClassifier, \n",
    "                             AdaBoostClassifier)\n",
    "from imblearn.over_sampling import SMOTE\n",
    "from imblearn.pipeline import Pipeline\n",
    "from numpy import where\n",
    "from sklearn.tree import DecisionTreeClassifier\n",
    "import xgboost as xgb\n",
    "%matplotlib inline"
   ]
  },
  {
   "cell_type": "code",
   "execution_count": null,
   "metadata": {},
   "outputs": [],
   "source": [
    "test = pd.read_csv('test_set_features.csv')\n",
    "test['label'] = 'test'\n",
    "train = pd.read_csv('training_set_features.csv')\n",
    "train['label'] = 'train'\n",
    "labels = pd.read_csv('training_set_labels.csv')\n",
    "h1n1 = labels['h1n1_vaccine']\n",
    "seasonal = labels['seasonal_vaccine']\n",
    "combine = pd.concat([train, test], axis = 0)\n",
    "ID = test['respondent_id']\n",
    "combine = combine.drop(['respondent_id'], axis = 1)\n",
    "full_train = pd.concat([labels, train], axis = 1)"
   ]
  },
  {
   "cell_type": "code",
   "execution_count": null,
   "metadata": {},
   "outputs": [],
   "source": [
    "combine_cols = combine.columns\n",
    "labels_cols = labels.columns\n",
    "#check column names\n",
    "print(combine_cols)\n",
    "print(labels_cols)"
   ]
  }
 ],
 "metadata": {
  "kernelspec": {
   "display_name": "Python 3",
   "language": "python",
   "name": "python3"
  },
  "language_info": {
   "codemirror_mode": {
    "name": "ipython",
    "version": 3
   },
   "file_extension": ".py",
   "mimetype": "text/x-python",
   "name": "python",
   "nbconvert_exporter": "python",
   "pygments_lexer": "ipython3",
   "version": "3.7.6"
  }
 },
 "nbformat": 4,
 "nbformat_minor": 4
}
